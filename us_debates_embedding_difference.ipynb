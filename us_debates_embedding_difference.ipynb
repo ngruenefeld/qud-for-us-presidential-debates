{
 "cells": [
  {
   "cell_type": "code",
   "execution_count": 3,
   "metadata": {},
   "outputs": [
    {
     "ename": "ModuleNotFoundError",
     "evalue": "No module named 'transformers'",
     "output_type": "error",
     "traceback": [
      "\u001b[0;31m---------------------------------------------------------------------------\u001b[0m",
      "\u001b[0;31mModuleNotFoundError\u001b[0m                       Traceback (most recent call last)",
      "Cell \u001b[0;32mIn[3], line 5\u001b[0m\n\u001b[1;32m      1\u001b[0m \u001b[38;5;28;01mimport\u001b[39;00m\u001b[38;5;250m \u001b[39m\u001b[38;5;21;01mglob\u001b[39;00m\n\u001b[1;32m      3\u001b[0m \u001b[38;5;28;01mimport\u001b[39;00m\u001b[38;5;250m \u001b[39m\u001b[38;5;21;01mpandas\u001b[39;00m\u001b[38;5;250m \u001b[39m\u001b[38;5;28;01mas\u001b[39;00m\u001b[38;5;250m \u001b[39m\u001b[38;5;21;01mpd\u001b[39;00m\n\u001b[0;32m----> 5\u001b[0m \u001b[38;5;28;01mfrom\u001b[39;00m\u001b[38;5;250m \u001b[39m\u001b[38;5;21;01mtransformers\u001b[39;00m\u001b[38;5;250m \u001b[39m\u001b[38;5;28;01mimport\u001b[39;00m BertTokenizer, BertModel\n\u001b[1;32m      6\u001b[0m \u001b[38;5;28;01mfrom\u001b[39;00m\u001b[38;5;250m \u001b[39m\u001b[38;5;21;01msklearn\u001b[39;00m\u001b[38;5;21;01m.\u001b[39;00m\u001b[38;5;21;01mmetrics\u001b[39;00m\u001b[38;5;21;01m.\u001b[39;00m\u001b[38;5;21;01mpairwise\u001b[39;00m\u001b[38;5;250m \u001b[39m\u001b[38;5;28;01mimport\u001b[39;00m cosine_similarity\n\u001b[1;32m      8\u001b[0m \u001b[38;5;28;01mfrom\u001b[39;00m\u001b[38;5;250m \u001b[39m\u001b[38;5;21;01mtqdm\u001b[39;00m\u001b[38;5;250m \u001b[39m\u001b[38;5;28;01mimport\u001b[39;00m tqdm\n",
      "\u001b[0;31mModuleNotFoundError\u001b[0m: No module named 'transformers'"
     ]
    }
   ],
   "source": [
    "import glob\n",
    "\n",
    "import pandas as pd\n",
    "\n",
    "from transformers import BertTokenizer, BertModel\n",
    "from sklearn.metrics.pairwise import cosine_similarity\n",
    "\n",
    "from tqdm import tqdm\n",
    "tqdm.pandas()"
   ]
  },
  {
   "cell_type": "code",
   "execution_count": 75,
   "metadata": {},
   "outputs": [],
   "source": [
    "data_base_dir = \"data/by_date\"\n",
    "\n",
    "dates = []\n",
    "dfs = {}\n",
    "for fpath in glob.glob(data_base_dir + \"/*\"):\n",
    "    df = pd.read_csv(fpath)\n",
    "    date = df[\"date\"].iloc[0]\n",
    "    dfs[date] = df[df[\"question\"].notnull()]\n",
    "    dates.append(date)\n",
    "\n",
    "dates.sort()"
   ]
  },
  {
   "cell_type": "code",
   "execution_count": 76,
   "metadata": {},
   "outputs": [
    {
     "data": {
      "text/html": [
       "<div>\n",
       "<style scoped>\n",
       "    .dataframe tbody tr th:only-of-type {\n",
       "        vertical-align: middle;\n",
       "    }\n",
       "\n",
       "    .dataframe tbody tr th {\n",
       "        vertical-align: top;\n",
       "    }\n",
       "\n",
       "    .dataframe thead th {\n",
       "        text-align: right;\n",
       "    }\n",
       "</style>\n",
       "<table border=\"1\" class=\"dataframe\">\n",
       "  <thead>\n",
       "    <tr style=\"text-align: right;\">\n",
       "      <th></th>\n",
       "      <th>speaker</th>\n",
       "      <th>text</th>\n",
       "      <th>type</th>\n",
       "      <th>election_year</th>\n",
       "      <th>date</th>\n",
       "      <th>candidate</th>\n",
       "      <th>qud</th>\n",
       "      <th>question</th>\n",
       "    </tr>\n",
       "  </thead>\n",
       "  <tbody>\n",
       "    <tr>\n",
       "      <th>6</th>\n",
       "      <td>John Kennedy</td>\n",
       "      <td>Well, the Vice President and I came to the Con...</td>\n",
       "      <td>Pres</td>\n",
       "      <td>1960</td>\n",
       "      <td>1960-09-26</td>\n",
       "      <td>1</td>\n",
       "      <td>What are the key differences between the Democ...</td>\n",
       "      <td>Senator, the Vice President in his campaign ha...</td>\n",
       "    </tr>\n",
       "    <tr>\n",
       "      <th>11</th>\n",
       "      <td>Richard Nixon</td>\n",
       "      <td>It would be rather difficult to cover them in ...</td>\n",
       "      <td>Pres</td>\n",
       "      <td>1960</td>\n",
       "      <td>1960-09-26</td>\n",
       "      <td>1</td>\n",
       "      <td>What recommendations have been made after fore...</td>\n",
       "      <td>Mr. Vice President, your campaign stresses the...</td>\n",
       "    </tr>\n",
       "    <tr>\n",
       "      <th>17</th>\n",
       "      <td>John Kennedy</td>\n",
       "      <td>Well, because I think that if the federal gove...</td>\n",
       "      <td>Pres</td>\n",
       "      <td>1960</td>\n",
       "      <td>1960-09-26</td>\n",
       "      <td>1</td>\n",
       "      <td>What are the potential consequences of withdra...</td>\n",
       "      <td>Id like to ask this; Its a fact, I think, that...</td>\n",
       "    </tr>\n",
       "    <tr>\n",
       "      <th>21</th>\n",
       "      <td>Richard Nixon</td>\n",
       "      <td>Well, I would suggest, Mr. Vanocur, that uh – ...</td>\n",
       "      <td>Pres</td>\n",
       "      <td>1960</td>\n",
       "      <td>1960-09-26</td>\n",
       "      <td>1</td>\n",
       "      <td>What is the role of the President in decision-...</td>\n",
       "      <td>Uh – Mr. Vice President, since the question of...</td>\n",
       "    </tr>\n",
       "    <tr>\n",
       "      <th>26</th>\n",
       "      <td>John Kennedy</td>\n",
       "      <td>I didnt indicate. I did not advocate reducing ...</td>\n",
       "      <td>Pres</td>\n",
       "      <td>1960</td>\n",
       "      <td>1960-09-26</td>\n",
       "      <td>1</td>\n",
       "      <td>What is the speaker's perspective on addressin...</td>\n",
       "      <td>Senator Kennedy, in connection with these prob...</td>\n",
       "    </tr>\n",
       "    <tr>\n",
       "      <th>32</th>\n",
       "      <td>John Kennedy</td>\n",
       "      <td>– reducing the interest rate. In my judgment, ...</td>\n",
       "      <td>Pres</td>\n",
       "      <td>1960</td>\n",
       "      <td>1960-09-26</td>\n",
       "      <td>1</td>\n",
       "      <td>What economic policies does the speaker propos...</td>\n",
       "      <td>Senator, I believe in – in one of your speeche...</td>\n",
       "    </tr>\n",
       "    <tr>\n",
       "      <th>37</th>\n",
       "      <td>Richard Nixon</td>\n",
       "      <td>Im awfully glad you ge- got that question beca...</td>\n",
       "      <td>Pres</td>\n",
       "      <td>1960</td>\n",
       "      <td>1960-09-26</td>\n",
       "      <td>1</td>\n",
       "      <td>What are the potential risks of federal involv...</td>\n",
       "      <td>Mr. Vice President you mentioned schools and i...</td>\n",
       "    </tr>\n",
       "    <tr>\n",
       "      <th>44</th>\n",
       "      <td>John Kennedy</td>\n",
       "      <td>If I may take the bills, we did pass in the Se...</td>\n",
       "      <td>Pres</td>\n",
       "      <td>1960</td>\n",
       "      <td>1960-09-26</td>\n",
       "      <td>1</td>\n",
       "      <td>What challenges do legislative efforts face wh...</td>\n",
       "      <td>Senator, youve been promising the voters that ...</td>\n",
       "    </tr>\n",
       "    <tr>\n",
       "      <th>53</th>\n",
       "      <td>John Kennedy</td>\n",
       "      <td>Well, I think theyre serious. I think its a ma...</td>\n",
       "      <td>Pres</td>\n",
       "      <td>1960</td>\n",
       "      <td>1960-09-26</td>\n",
       "      <td>1</td>\n",
       "      <td>What actions should be taken to ensure the Uni...</td>\n",
       "      <td>Senator Kennedy, on another subject, Communism...</td>\n",
       "    </tr>\n",
       "    <tr>\n",
       "      <th>58</th>\n",
       "      <td>Richard Nixon</td>\n",
       "      <td>Not at all. As a matter of fact your question ...</td>\n",
       "      <td>Pres</td>\n",
       "      <td>1960</td>\n",
       "      <td>1960-09-26</td>\n",
       "      <td>1</td>\n",
       "      <td>What factors contribute to America's economic ...</td>\n",
       "      <td>Mr. Vice President uh – in one of your earlier...</td>\n",
       "    </tr>\n",
       "  </tbody>\n",
       "</table>\n",
       "</div>"
      ],
      "text/plain": [
       "          speaker                                               text  type  \\\n",
       "6    John Kennedy  Well, the Vice President and I came to the Con...  Pres   \n",
       "11  Richard Nixon  It would be rather difficult to cover them in ...  Pres   \n",
       "17   John Kennedy  Well, because I think that if the federal gove...  Pres   \n",
       "21  Richard Nixon  Well, I would suggest, Mr. Vanocur, that uh – ...  Pres   \n",
       "26   John Kennedy  I didnt indicate. I did not advocate reducing ...  Pres   \n",
       "32   John Kennedy  – reducing the interest rate. In my judgment, ...  Pres   \n",
       "37  Richard Nixon  Im awfully glad you ge- got that question beca...  Pres   \n",
       "44   John Kennedy  If I may take the bills, we did pass in the Se...  Pres   \n",
       "53   John Kennedy  Well, I think theyre serious. I think its a ma...  Pres   \n",
       "58  Richard Nixon  Not at all. As a matter of fact your question ...  Pres   \n",
       "\n",
       "    election_year        date  candidate  \\\n",
       "6            1960  1960-09-26          1   \n",
       "11           1960  1960-09-26          1   \n",
       "17           1960  1960-09-26          1   \n",
       "21           1960  1960-09-26          1   \n",
       "26           1960  1960-09-26          1   \n",
       "32           1960  1960-09-26          1   \n",
       "37           1960  1960-09-26          1   \n",
       "44           1960  1960-09-26          1   \n",
       "53           1960  1960-09-26          1   \n",
       "58           1960  1960-09-26          1   \n",
       "\n",
       "                                                  qud  \\\n",
       "6   What are the key differences between the Democ...   \n",
       "11  What recommendations have been made after fore...   \n",
       "17  What are the potential consequences of withdra...   \n",
       "21  What is the role of the President in decision-...   \n",
       "26  What is the speaker's perspective on addressin...   \n",
       "32  What economic policies does the speaker propos...   \n",
       "37  What are the potential risks of federal involv...   \n",
       "44  What challenges do legislative efforts face wh...   \n",
       "53  What actions should be taken to ensure the Uni...   \n",
       "58  What factors contribute to America's economic ...   \n",
       "\n",
       "                                             question  \n",
       "6   Senator, the Vice President in his campaign ha...  \n",
       "11  Mr. Vice President, your campaign stresses the...  \n",
       "17  Id like to ask this; Its a fact, I think, that...  \n",
       "21  Uh – Mr. Vice President, since the question of...  \n",
       "26  Senator Kennedy, in connection with these prob...  \n",
       "32  Senator, I believe in – in one of your speeche...  \n",
       "37  Mr. Vice President you mentioned schools and i...  \n",
       "44  Senator, youve been promising the voters that ...  \n",
       "53  Senator Kennedy, on another subject, Communism...  \n",
       "58  Mr. Vice President uh – in one of your earlier...  "
      ]
     },
     "execution_count": 76,
     "metadata": {},
     "output_type": "execute_result"
    }
   ],
   "source": [
    "dfs[dates[0]]"
   ]
  },
  {
   "cell_type": "code",
   "execution_count": 77,
   "metadata": {},
   "outputs": [
    {
     "data": {
      "text/plain": [
       "271"
      ]
     },
     "execution_count": 77,
     "metadata": {},
     "output_type": "execute_result"
    }
   ],
   "source": [
    "sum([len(df) for df in dfs.values()])"
   ]
  },
  {
   "cell_type": "code",
   "execution_count": 78,
   "metadata": {},
   "outputs": [
    {
     "name": "stdout",
     "output_type": "stream",
     "text": [
      "0\t1960-09-26\t10\t8\n",
      "1\t1976-09-23\t20\t8\n",
      "2\t1980-09-21\t12\t8\n",
      "3\t1984-10-07\t30\t8\n",
      "4\t1988-09-25\t23\t8\n",
      "5\t1992-10-11\t11\t8\n",
      "6\t1996-10-06\t21\t8\n",
      "7\t2000-10-03\t26\t8\n",
      "8\t2004-09-30\t18\t8\n",
      "9\t2008-09-26\t17\t8\n",
      "10\t2012-10-03\t25\t8\n",
      "11\t2016-09-26\t19\t8\n",
      "12\t2020-09-29\t39\t8\n"
     ]
    }
   ],
   "source": [
    "for i, d in enumerate(dates):\n",
    "    print(f\"{i}\\t{d}\\t{len(dfs[d])}\\t{len(dfs[d].columns)}\")"
   ]
  },
  {
   "cell_type": "code",
   "execution_count": 4,
   "metadata": {},
   "outputs": [
    {
     "ename": "ImportError",
     "evalue": "\nBertModel requires the PyTorch library but it was not found in your environment. Checkout the instructions on the\ninstallation page: https://pytorch.org/get-started/locally/ and follow the ones that match your environment.\nPlease note that you may need to restart your runtime after installation.\n",
     "output_type": "error",
     "traceback": [
      "\u001b[0;31m---------------------------------------------------------------------------\u001b[0m",
      "\u001b[0;31mImportError\u001b[0m                               Traceback (most recent call last)",
      "Cell \u001b[0;32mIn[4], line 2\u001b[0m\n\u001b[1;32m      1\u001b[0m tokenizer \u001b[38;5;241m=\u001b[39m BertTokenizer\u001b[38;5;241m.\u001b[39mfrom_pretrained(\u001b[38;5;124m\"\u001b[39m\u001b[38;5;124mbert-base-uncased\u001b[39m\u001b[38;5;124m\"\u001b[39m)\n\u001b[0;32m----> 2\u001b[0m model \u001b[38;5;241m=\u001b[39m \u001b[43mBertModel\u001b[49m\u001b[38;5;241;43m.\u001b[39;49m\u001b[43mfrom_pretrained\u001b[49m(\u001b[38;5;124m\"\u001b[39m\u001b[38;5;124mbert-base-uncased\u001b[39m\u001b[38;5;124m\"\u001b[39m)\n",
      "File \u001b[0;32m~/Documents/GitHub/qud-for-us-presidential-debates/env/lib/python3.13/site-packages/transformers/utils/import_utils.py:1690\u001b[0m, in \u001b[0;36mDummyObject.__getattribute__\u001b[0;34m(cls, key)\u001b[0m\n\u001b[1;32m   1688\u001b[0m \u001b[38;5;28;01mif\u001b[39;00m key\u001b[38;5;241m.\u001b[39mstartswith(\u001b[38;5;124m\"\u001b[39m\u001b[38;5;124m_\u001b[39m\u001b[38;5;124m\"\u001b[39m) \u001b[38;5;129;01mand\u001b[39;00m key \u001b[38;5;241m!=\u001b[39m \u001b[38;5;124m\"\u001b[39m\u001b[38;5;124m_from_config\u001b[39m\u001b[38;5;124m\"\u001b[39m:\n\u001b[1;32m   1689\u001b[0m     \u001b[38;5;28;01mreturn\u001b[39;00m \u001b[38;5;28msuper\u001b[39m()\u001b[38;5;241m.\u001b[39m\u001b[38;5;21m__getattribute__\u001b[39m(key)\n\u001b[0;32m-> 1690\u001b[0m \u001b[43mrequires_backends\u001b[49m\u001b[43m(\u001b[49m\u001b[38;5;28;43mcls\u001b[39;49m\u001b[43m,\u001b[49m\u001b[43m \u001b[49m\u001b[38;5;28;43mcls\u001b[39;49m\u001b[38;5;241;43m.\u001b[39;49m\u001b[43m_backends\u001b[49m\u001b[43m)\u001b[49m\n",
      "File \u001b[0;32m~/Documents/GitHub/qud-for-us-presidential-debates/env/lib/python3.13/site-packages/transformers/utils/import_utils.py:1678\u001b[0m, in \u001b[0;36mrequires_backends\u001b[0;34m(obj, backends)\u001b[0m\n\u001b[1;32m   1676\u001b[0m failed \u001b[38;5;241m=\u001b[39m [msg\u001b[38;5;241m.\u001b[39mformat(name) \u001b[38;5;28;01mfor\u001b[39;00m available, msg \u001b[38;5;129;01min\u001b[39;00m checks \u001b[38;5;28;01mif\u001b[39;00m \u001b[38;5;129;01mnot\u001b[39;00m available()]\n\u001b[1;32m   1677\u001b[0m \u001b[38;5;28;01mif\u001b[39;00m failed:\n\u001b[0;32m-> 1678\u001b[0m     \u001b[38;5;28;01mraise\u001b[39;00m \u001b[38;5;167;01mImportError\u001b[39;00m(\u001b[38;5;124m\"\u001b[39m\u001b[38;5;124m\"\u001b[39m\u001b[38;5;241m.\u001b[39mjoin(failed))\n",
      "\u001b[0;31mImportError\u001b[0m: \nBertModel requires the PyTorch library but it was not found in your environment. Checkout the instructions on the\ninstallation page: https://pytorch.org/get-started/locally/ and follow the ones that match your environment.\nPlease note that you may need to restart your runtime after installation.\n"
     ]
    }
   ],
   "source": [
    "tokenizer = BertTokenizer.from_pretrained(\"bert-base-uncased\")\n",
    "model = BertModel.from_pretrained(\"bert-base-uncased\")"
   ]
  }
 ],
 "metadata": {
  "kernelspec": {
   "display_name": "env",
   "language": "python",
   "name": "python3"
  },
  "language_info": {
   "codemirror_mode": {
    "name": "ipython",
    "version": 3
   },
   "file_extension": ".py",
   "mimetype": "text/x-python",
   "name": "python",
   "nbconvert_exporter": "python",
   "pygments_lexer": "ipython3",
   "version": "3.13.0"
  }
 },
 "nbformat": 4,
 "nbformat_minor": 2
}
